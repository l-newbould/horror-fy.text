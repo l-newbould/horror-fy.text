{
 "cells": [
  {
   "cell_type": "markdown",
   "id": "803c6c85",
   "metadata": {},
   "source": [
    "### Setup Packages and API"
   ]
  },
  {
   "cell_type": "code",
   "execution_count": 1,
   "id": "8bf032f0",
   "metadata": {},
   "outputs": [],
   "source": [
    "import openai\n",
    "import config"
   ]
  },
  {
   "cell_type": "code",
   "execution_count": 6,
   "id": "e6b298a4",
   "metadata": {},
   "outputs": [],
   "source": [
    "# set the openAI API key\n",
    "openai.api_key = config.api_key"
   ]
  },
  {
   "cell_type": "code",
   "execution_count": 15,
   "id": "61ce4bf1",
   "metadata": {},
   "outputs": [],
   "source": [
    "def transform_to_gothic_horror(input_text):\n",
    "    \n",
    "    \"\"\"\n",
    "    Transforms input text into gothic horror style using GPT model.\n",
    "    Args:\n",
    "        input_text (str): The text to be transformed.\n",
    "    Returns:\n",
    "        str: The transformed text in gothic horror style.\n",
    "    \"\"\"\n",
    "    \n",
    "    response = openai.ChatCompletion.create(\n",
    "      model=\"gpt-3.5-turbo-0125\",\n",
    "      messages=[\n",
    "        {\n",
    "          \"role\": \"system\",\n",
    "          \"content\": [\n",
    "            {\n",
    "              \"type\": \"text\",\n",
    "              \"text\": \"You are an expert writer specializing in gothic horror.  Transform the following text into a gothic horror style, adding richly atmospheric descriptions, a dark tone, and a sense of foreboding. \"\n",
    "            }\n",
    "          ]\n",
    "        },\n",
    "        {\n",
    "         \"role\": \"user\",\n",
    "         \"content\": input_text\n",
    "        }\n",
    "      ],\n",
    "      temperature=1,\n",
    "      max_completion_tokens=2048,\n",
    "      top_p=1,\n",
    "      frequency_penalty=0,\n",
    "      presence_penalty=0\n",
    "    )\n",
    "    \n",
    "    gothic_horror_output = response[\"choices\"][0][\"message\"][\"content\"]\n",
    "    return gothic_horror_output"
   ]
  },
  {
   "cell_type": "code",
   "execution_count": 16,
   "id": "bd6be77b",
   "metadata": {},
   "outputs": [],
   "source": [
    "new_input_text =\\\n",
    "\"\"\"The café buzzed with cheerful chatter as friends caught up over steaming cups of coffee. \n",
    "The scent of fresh pastries wafted through the air, and sunlight streamed through the large windows, \n",
    "creating a cozy, inviting atmosphere. It felt like the perfect place to spend a bright and lively morning.\"\"\""
   ]
  },
  {
   "cell_type": "code",
   "execution_count": 17,
   "id": "a973a042",
   "metadata": {},
   "outputs": [
    {
     "data": {
      "text/plain": [
       "\"The café stood as a facade of warmth and familiarity, a beacon amidst the encroaching shadows of the cobblestone streets beyond its threshold. Laughter and chattering voices echoed off the walls, a stark contrast to the foreboding silence that lingered just beyond perception. \\n\\nThe steam rising from the cups of coffee twisted and curled like tendrils of creeping mist, its aroma suffocatingly sweet and cloying. The pastries on display gleamed under the harsh glare of unnatural sunlight, their colors too vivid, too garish against the dimness that loomed in the corners of the room. \\n\\nThe large windows, instead of welcoming the sun's gentle embrace, seemed to trap and magnify its harsh, unyielding rays, casting elongated shadows that danced unnaturally across the floor. The once inviting atmosphere now felt stifling, oppressive, as though the very walls themselves were closing in. \\n\\nIt was as if the café held a dark secret, a malevolent force that whispered of forgotten tragedies and unspeakable horrors. And as the patrons laughed and sipped their coffee, oblivious to the encroaching darkness, a sense of foreboding settled over the room like a heavy shroud, suffocating hope and hinting at the sinister truths that lurked just beneath the surface.\""
      ]
     },
     "execution_count": 17,
     "metadata": {},
     "output_type": "execute_result"
    }
   ],
   "source": [
    "transform_to_gothic_horror(new_input_text)"
   ]
  },
  {
   "cell_type": "code",
   "execution_count": null,
   "id": "340b9f82",
   "metadata": {},
   "outputs": [],
   "source": []
  }
 ],
 "metadata": {
  "kernelspec": {
   "display_name": "Python 3 (ipykernel)",
   "language": "python",
   "name": "python3"
  },
  "language_info": {
   "codemirror_mode": {
    "name": "ipython",
    "version": 3
   },
   "file_extension": ".py",
   "mimetype": "text/x-python",
   "name": "python",
   "nbconvert_exporter": "python",
   "pygments_lexer": "ipython3",
   "version": "3.11.5"
  }
 },
 "nbformat": 4,
 "nbformat_minor": 5
}
