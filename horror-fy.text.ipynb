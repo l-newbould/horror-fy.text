{
 "cells": [
  {
   "cell_type": "markdown",
   "id": "cff220a2",
   "metadata": {},
   "source": [
    "# Creating my Horror-fy Text Generator"
   ]
  },
  {
   "cell_type": "markdown",
   "id": "7658a20e",
   "metadata": {},
   "source": [
    "This project leverages the power of GPT models to transform everyday text into the richly atmospheric and darkly evocative style of gothic horror literature. As a lover of gothic horror, I wanted to combine my passion for the genre with the capabilities of AI to reimagine input text with dramatic descriptions, a sense of foreboding, and a haunting tone reminiscent of classic gothic works. Whether it's converting cheerful stories into eerie tales or adding a layer of mystery to mundane descriptions, this tool is a unique exploration of language, style, and the transformative potential of AI in creative writing."
   ]
  },
  {
   "cell_type": "markdown",
   "id": "1557e1f4",
   "metadata": {},
   "source": [
    "### Setup Packages and API"
   ]
  },
  {
   "cell_type": "code",
   "execution_count": 1,
   "id": "e044e45f",
   "metadata": {},
   "outputs": [],
   "source": [
    "import openai\n",
    "import config"
   ]
  },
  {
   "cell_type": "code",
   "execution_count": 6,
   "id": "1fd0beda",
   "metadata": {},
   "outputs": [],
   "source": [
    "# set the openAI API key\n",
    "openai.api_key = config.api_key"
   ]
  },
  {
   "cell_type": "markdown",
   "id": "864e86eb",
   "metadata": {},
   "source": [
    "### Create Function"
   ]
  },
  {
   "cell_type": "code",
   "execution_count": 21,
   "id": "63364eb7",
   "metadata": {},
   "outputs": [],
   "source": [
    "def transform_to_gothic_horror(input_text):\n",
    "    \n",
    "    \"\"\"\n",
    "    Transforms input text into gothic horror style using GPT model.\n",
    "    Args:\n",
    "        input_text (str): The text to be transformed.\n",
    "    Returns:\n",
    "        str: The transformed text in gothic horror style.\n",
    "    \"\"\"\n",
    "    \n",
    "    response = openai.ChatCompletion.create(\n",
    "      model=\"gpt-3.5-turbo-0125\", # you can use newer models if you wish\n",
    "      messages=[\n",
    "        {\n",
    "          \"role\": \"system\",\n",
    "          \"content\": [\n",
    "            {\n",
    "              \"type\": \"text\",\n",
    "              \"text\": \"You are an expert writer specializing in gothic horror.  Transform the following text into a gothic horror style, adding richly atmospheric descriptions, a dark tone, and a sense of foreboding. \"\n",
    "            }\n",
    "          ]\n",
    "        },\n",
    "        {\n",
    "         \"role\": \"user\",\n",
    "         \"content\": input_text\n",
    "        }\n",
    "      ],\n",
    "      temperature=0.9,\n",
    "      max_completion_tokens=2048,\n",
    "      top_p=1,\n",
    "      frequency_penalty=0,\n",
    "      presence_penalty=0\n",
    "    )\n",
    "    \n",
    "    gothic_horror_output = response[\"choices\"][0][\"message\"][\"content\"]\n",
    "    return gothic_horror_output"
   ]
  },
  {
   "cell_type": "markdown",
   "id": "831675c8",
   "metadata": {},
   "source": [
    "### Test Function"
   ]
  },
  {
   "cell_type": "code",
   "execution_count": 23,
   "id": "17e95cac",
   "metadata": {},
   "outputs": [
    {
     "data": {
      "text/plain": [
       "\"The café was enveloped in an eerie stillness, the only sound the faint whisper of the wind outside. The air hung heavy with a musty scent, as if the walls themselves exuded a sense of ancient foreboding. Shadows crept across the worn wooden floors, casting a pall over the once bustling space.\\n\\nThe large windows, now clouded with grime and age, allowed only a feeble light to filter into the room, illuminating the dust motes that danced in its dim glow. The walls, once painted a cheerful hue, now bore the marks of time and neglect, their peeling layers exposing the building's decaying soul.\\n\\nThe patrons, once full of lively conversation, now sat in silence, their faces obscured by the gathering darkness. Their steaming cups of coffee lay untouched, the liquid within stagnant and cold. The pastries, once fresh and inviting, now appeared stale and lifeless, their sweet aroma tainted with a hint of decay.\\n\\nAs the sunlight struggled to penetrate the gloom, it cast long, twisted shadows that seemed to reach out with grasping fingers. The cozy atmosphere that had once enveloped the café now felt suffocating, a trap from which there was no escape. \\n\\nThis was no longer a place for bright and lively mornings, but a haunt of shadows and despair, where the echoes of past joys mingled with the whispers of forgotten sorrows.\""
      ]
     },
     "execution_count": 23,
     "metadata": {},
     "output_type": "execute_result"
    }
   ],
   "source": [
    "transform_to_gothic_horror(\n",
    "\"\"\"\n",
    "The café buzzed with cheerful chatter as friends caught up over steaming cups of coffee. \n",
    "The scent of fresh pastries wafted through the air, and sunlight streamed through the large windows, \n",
    "creating a cozy, inviting atmosphere. It felt like the perfect place to spend a bright and lively morning.\n",
    "\"\"\".replace('\\\\n','\\n')\n",
    ")"
   ]
  },
  {
   "cell_type": "code",
   "execution_count": null,
   "id": "171f9bf6",
   "metadata": {},
   "outputs": [],
   "source": []
  }
 ],
 "metadata": {
  "kernelspec": {
   "display_name": "Python 3 (ipykernel)",
   "language": "python",
   "name": "python3"
  },
  "language_info": {
   "codemirror_mode": {
    "name": "ipython",
    "version": 3
   },
   "file_extension": ".py",
   "mimetype": "text/x-python",
   "name": "python",
   "nbconvert_exporter": "python",
   "pygments_lexer": "ipython3",
   "version": "3.11.5"
  }
 },
 "nbformat": 4,
 "nbformat_minor": 5
}
