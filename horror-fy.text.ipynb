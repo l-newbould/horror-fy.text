{
 "cells": [
  {
   "cell_type": "markdown",
   "id": "88e358e1",
   "metadata": {},
   "source": [
    "# Creating my Horror-fy Text Generator"
   ]
  },
  {
   "cell_type": "markdown",
   "id": "ff32e330",
   "metadata": {},
   "source": [
    "This project leverages the power of GPT models to transform everyday text into the richly atmospheric and darkly evocative style of gothic horror literature. As a lover of gothic horror, I wanted to combine my passion for the genre with the capabilities of AI to reimagine input text with dramatic descriptions, a sense of foreboding, and a haunting tone reminiscent of classic gothic works. Whether it's converting cheerful stories into eerie tales or adding a layer of mystery to mundane descriptions, this tool is a unique exploration of language, style, and the transformative potential of AI in creative writing."
   ]
  },
  {
   "cell_type": "markdown",
   "id": "3374a433",
   "metadata": {},
   "source": [
    "### Setup Packages and API"
   ]
  },
  {
   "cell_type": "code",
   "execution_count": 1,
   "id": "ccb96d12",
   "metadata": {},
   "outputs": [],
   "source": [
    "import openai\n",
    "import config"
   ]
  },
  {
   "cell_type": "code",
   "execution_count": 6,
   "id": "ee72f1b6",
   "metadata": {},
   "outputs": [],
   "source": [
    "# set the openAI API key\n",
    "openai.api_key = config.api_key"
   ]
  },
  {
   "cell_type": "markdown",
   "id": "ccb1b2bd",
   "metadata": {},
   "source": [
    "### Create Function"
   ]
  },
  {
   "cell_type": "code",
   "execution_count": 28,
   "id": "1f6ea4f6",
   "metadata": {},
   "outputs": [],
   "source": [
    "def transform_to_gothic_horror(input_text):\n",
    "    \n",
    "    \"\"\"\n",
    "    Transforms input text into gothic horror style using GPT model.\n",
    "    Args:\n",
    "        input_text (str): The text to be transformed.\n",
    "    Returns:\n",
    "        str: The transformed text in gothic horror style.\n",
    "    \"\"\"\n",
    "    \n",
    "    response = openai.ChatCompletion.create(\n",
    "      model=\"gpt-3.5-turbo-0125\", # you can use newer models if you wish\n",
    "      messages=[\n",
    "        {\n",
    "          \"role\": \"system\",\n",
    "          \"content\": [\n",
    "            {\n",
    "              \"type\": \"text\",\n",
    "              \"text\": \"You are an expert writer specializing in gothic horror.  Transform the following text into a gothic horror style, adding richly atmospheric descriptions, a dark tone, and a sense of foreboding. \"\n",
    "            }\n",
    "          ]\n",
    "        },\n",
    "        {\n",
    "         \"role\": \"user\",\n",
    "         \"content\": input_text\n",
    "        }\n",
    "      ],\n",
    "      temperature=0.9,\n",
    "      max_completion_tokens=2048,\n",
    "      top_p=1,\n",
    "      frequency_penalty=0,\n",
    "      presence_penalty=0\n",
    "    )\n",
    "    \n",
    "    gothic_horror_output = response[\"choices\"][0][\"message\"][\"content\"]\n",
    "    return print(gothic_horror_output)"
   ]
  },
  {
   "cell_type": "markdown",
   "id": "c583760e",
   "metadata": {},
   "source": [
    "### Test Function"
   ]
  },
  {
   "cell_type": "code",
   "execution_count": 29,
   "id": "99029ea7",
   "metadata": {},
   "outputs": [
    {
     "name": "stdout",
     "output_type": "stream",
     "text": [
      "The cafe was alive with an unnatural cheer, the air thick with forced laughter that rang false against the backdrop of a foreboding darkness. Shadows lurked in the corners, whispering secrets of unseen horrors. The scent of decay mingled with the aroma of pastries, a sickly sweet perfume that curdled the stomachs of those who dared to breathe it in.\n",
      "\n",
      "The sunlight that filtered through the large, grimy windows was tainted, casting eerie shadows that danced like specters across the floor. Instead of warmth, it brought a cold chill that crept into the bones of the unsuspecting patrons. The atmosphere was suffocating, a heavy weight pressing down on the unsuspecting souls who thought they had sought solace in this supposedly cozy sanctuary.\n",
      "\n",
      "The cheerful chatter of friends catching up was a discordant symphony, their smiles frozen masks that hid the terror lurking beneath. Each laugh seemed to be punctuated by a sharp intake of breath, as if the very air itself was poisoned. The bright and lively morning they had envisioned had transformed into a waking nightmare, a trap laid by forces beyond their comprehension.\n",
      "\n",
      "As the clock ticked away the seconds, the walls of the cafe seemed to close in, the once inviting space now a prison of despair. The cheerful facade cracked, revealing the darkness that pulsed just beneath the surface. And as the last echoes of false merriment faded away, a sense of impending doom settled over the cafe like a shroud, promising a horror beyond imagining.\n"
     ]
    }
   ],
   "source": [
    "transform_to_gothic_horror(\n",
    "\"\"\"\n",
    "The café buzzed with cheerful chatter as friends caught up over steaming cups of coffee. \n",
    "The scent of fresh pastries wafted through the air, and sunlight streamed through the large windows, \n",
    "creating a cozy, inviting atmosphere. It felt like the perfect place to spend a bright and lively morning.\n",
    "\"\"\"\n",
    ")"
   ]
  },
  {
   "cell_type": "code",
   "execution_count": null,
   "id": "255ebbf4",
   "metadata": {},
   "outputs": [],
   "source": []
  }
 ],
 "metadata": {
  "kernelspec": {
   "display_name": "Python 3 (ipykernel)",
   "language": "python",
   "name": "python3"
  },
  "language_info": {
   "codemirror_mode": {
    "name": "ipython",
    "version": 3
   },
   "file_extension": ".py",
   "mimetype": "text/x-python",
   "name": "python",
   "nbconvert_exporter": "python",
   "pygments_lexer": "ipython3",
   "version": "3.11.5"
  }
 },
 "nbformat": 4,
 "nbformat_minor": 5
}
